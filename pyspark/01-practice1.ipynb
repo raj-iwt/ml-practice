{
 "cells": [
  {
   "cell_type": "code",
   "execution_count": 2,
   "metadata": {},
   "outputs": [
    {
     "name": "stdout",
     "output_type": "stream",
     "text": [
      "SparkSession created\n"
     ]
    }
   ],
   "source": [
    "from pyspark.sql import SparkSession\n",
    "\n",
    "spark = SparkSession.builder.appName(\"SparkSQL\").getOrCreate()\n",
    "\n",
    "print(\"SparkSession created\")"
   ]
  },
  {
   "cell_type": "code",
   "execution_count": 7,
   "metadata": {},
   "outputs": [],
   "source": [
    "from pyspark.sql.types import *"
   ]
  },
  {
   "cell_type": "code",
   "execution_count": 8,
   "metadata": {},
   "outputs": [],
   "source": [
    "schema = StructType([\n",
    "    StructField(\"id_2\", IntegerType(), True),\n",
    "    StructField(\"cmp_fname_c1\", DoubleType(), True)\n",
    "])"
   ]
  },
  {
   "cell_type": "code",
   "execution_count": 9,
   "metadata": {},
   "outputs": [],
   "source": [
    "# prev = spark.read.option(\"nullValue\", \"?\").csv(\"linkage/block_1.csv\", header=True, inferSchema=True)\n",
    "schema_prev = spark.read.option(\"nullValue\", \"?\").schema(schema).csv(\"linkage/block_1.csv\", header=True)"
   ]
  },
  {
   "cell_type": "code",
   "execution_count": 12,
   "metadata": {},
   "outputs": [
    {
     "name": "stdout",
     "output_type": "stream",
     "text": [
      "+-----+------------+\n",
      "| id_2|cmp_fname_c1|\n",
      "+-----+------------+\n",
      "|37291|     53113.0|\n",
      "|39086|     47614.0|\n",
      "|70031|     70237.0|\n",
      "|84795|     97439.0|\n",
      "|36950|     42116.0|\n",
      "|42413|     48491.0|\n",
      "|25965|     64753.0|\n",
      "|49451|     90407.0|\n",
      "|39932|     40902.0|\n",
      "|46626|     47940.0|\n",
      "|48948|     98379.0|\n",
      "| 4767|      4826.0|\n",
      "|45463|     69659.0|\n",
      "|11367|     13169.0|\n",
      "|10782|     89636.0|\n",
      "|26206|     39147.0|\n",
      "|16662|     27083.0|\n",
      "|18823|     30204.0|\n",
      "|38545|     85418.0|\n",
      "|28963|     39172.0|\n",
      "+-----+------------+\n",
      "only showing top 20 rows\n",
      "\n"
     ]
    }
   ],
   "source": [
    "schema_prev.show()"
   ]
  },
  {
   "cell_type": "code",
   "execution_count": 11,
   "metadata": {},
   "outputs": [
    {
     "name": "stdout",
     "output_type": "stream",
     "text": [
      "root\n",
      " |-- id_2: integer (nullable = true)\n",
      " |-- cmp_fname_c1: double (nullable = true)\n",
      "\n"
     ]
    }
   ],
   "source": [
    "schema_prev.printSchema()"
   ]
  },
  {
   "cell_type": "code",
   "execution_count": null,
   "metadata": {},
   "outputs": [],
   "source": []
  }
 ],
 "metadata": {
  "kernelspec": {
   "display_name": "Python 3",
   "language": "python",
   "name": "python3"
  },
  "language_info": {
   "codemirror_mode": {
    "name": "ipython",
    "version": 3
   },
   "file_extension": ".py",
   "mimetype": "text/x-python",
   "name": "python",
   "nbconvert_exporter": "python",
   "pygments_lexer": "ipython3",
   "version": "3.13.1"
  }
 },
 "nbformat": 4,
 "nbformat_minor": 2
}
